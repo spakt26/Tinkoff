{
 "cells": [
  {
   "cell_type": "code",
   "execution_count": 2,
   "metadata": {},
   "outputs": [],
   "source": [
    "import pandas as pd"
   ]
  },
  {
   "cell_type": "code",
   "execution_count": 3,
   "metadata": {},
   "outputs": [
    {
     "data": {
      "text/html": [
       "<div>\n",
       "<style scoped>\n",
       "    .dataframe tbody tr th:only-of-type {\n",
       "        vertical-align: middle;\n",
       "    }\n",
       "\n",
       "    .dataframe tbody tr th {\n",
       "        vertical-align: top;\n",
       "    }\n",
       "\n",
       "    .dataframe thead th {\n",
       "        text-align: right;\n",
       "    }\n",
       "</style>\n",
       "<table border=\"1\" class=\"dataframe\">\n",
       "  <thead>\n",
       "    <tr style=\"text-align: right;\">\n",
       "      <th></th>\n",
       "      <th>&lt;DATE&gt;</th>\n",
       "      <th>&lt;TIME&gt;</th>\n",
       "      <th>&lt;OPEN&gt;</th>\n",
       "      <th>&lt;HIGH&gt;</th>\n",
       "      <th>&lt;LOW&gt;</th>\n",
       "      <th>&lt;CLOSE&gt;</th>\n",
       "      <th>&lt;VOL&gt;</th>\n",
       "    </tr>\n",
       "  </thead>\n",
       "  <tbody>\n",
       "    <tr>\n",
       "      <td>0</td>\n",
       "      <td>20150105</td>\n",
       "      <td>100100</td>\n",
       "      <td>1064.0</td>\n",
       "      <td>1064.0</td>\n",
       "      <td>1064.0</td>\n",
       "      <td>1064.0</td>\n",
       "      <td>0</td>\n",
       "    </tr>\n",
       "    <tr>\n",
       "      <td>1</td>\n",
       "      <td>20150105</td>\n",
       "      <td>100200</td>\n",
       "      <td>1064.0</td>\n",
       "      <td>1064.0</td>\n",
       "      <td>1064.0</td>\n",
       "      <td>1064.0</td>\n",
       "      <td>0</td>\n",
       "    </tr>\n",
       "    <tr>\n",
       "      <td>2</td>\n",
       "      <td>20150105</td>\n",
       "      <td>100300</td>\n",
       "      <td>1064.0</td>\n",
       "      <td>1064.0</td>\n",
       "      <td>1064.0</td>\n",
       "      <td>1064.0</td>\n",
       "      <td>0</td>\n",
       "    </tr>\n",
       "    <tr>\n",
       "      <td>3</td>\n",
       "      <td>20150105</td>\n",
       "      <td>100400</td>\n",
       "      <td>1064.0</td>\n",
       "      <td>1064.0</td>\n",
       "      <td>1064.0</td>\n",
       "      <td>1064.0</td>\n",
       "      <td>0</td>\n",
       "    </tr>\n",
       "    <tr>\n",
       "      <td>4</td>\n",
       "      <td>20150105</td>\n",
       "      <td>100500</td>\n",
       "      <td>1064.0</td>\n",
       "      <td>1064.0</td>\n",
       "      <td>1064.0</td>\n",
       "      <td>1064.0</td>\n",
       "      <td>0</td>\n",
       "    </tr>\n",
       "  </tbody>\n",
       "</table>\n",
       "</div>"
      ],
      "text/plain": [
       "     <DATE>  <TIME>  <OPEN>  <HIGH>   <LOW>  <CLOSE>  <VOL>\n",
       "0  20150105  100100  1064.0  1064.0  1064.0   1064.0      0\n",
       "1  20150105  100200  1064.0  1064.0  1064.0   1064.0      0\n",
       "2  20150105  100300  1064.0  1064.0  1064.0   1064.0      0\n",
       "3  20150105  100400  1064.0  1064.0  1064.0   1064.0      0\n",
       "4  20150105  100500  1064.0  1064.0  1064.0   1064.0      0"
      ]
     },
     "execution_count": 3,
     "metadata": {},
     "output_type": "execute_result"
    }
   ],
   "source": [
    "df1 = pd.read_csv(\"/Users/alina/Downloads/YNDX_150101_151231.csv\")\n",
    "df1.head()"
   ]
  },
  {
   "cell_type": "code",
   "execution_count": 4,
   "metadata": {},
   "outputs": [
    {
     "data": {
      "text/html": [
       "<div>\n",
       "<style scoped>\n",
       "    .dataframe tbody tr th:only-of-type {\n",
       "        vertical-align: middle;\n",
       "    }\n",
       "\n",
       "    .dataframe tbody tr th {\n",
       "        vertical-align: top;\n",
       "    }\n",
       "\n",
       "    .dataframe thead th {\n",
       "        text-align: right;\n",
       "    }\n",
       "</style>\n",
       "<table border=\"1\" class=\"dataframe\">\n",
       "  <thead>\n",
       "    <tr style=\"text-align: right;\">\n",
       "      <th></th>\n",
       "      <th>&lt;DATE&gt;</th>\n",
       "      <th>&lt;TIME&gt;</th>\n",
       "      <th>&lt;OPEN&gt;</th>\n",
       "      <th>&lt;HIGH&gt;</th>\n",
       "      <th>&lt;LOW&gt;</th>\n",
       "      <th>&lt;CLOSE&gt;</th>\n",
       "      <th>&lt;VOL&gt;</th>\n",
       "    </tr>\n",
       "  </thead>\n",
       "  <tbody>\n",
       "    <tr>\n",
       "      <td>0</td>\n",
       "      <td>20160104</td>\n",
       "      <td>100100</td>\n",
       "      <td>1148.9</td>\n",
       "      <td>1148.9</td>\n",
       "      <td>1148.9</td>\n",
       "      <td>1148.9</td>\n",
       "      <td>0</td>\n",
       "    </tr>\n",
       "    <tr>\n",
       "      <td>1</td>\n",
       "      <td>20160104</td>\n",
       "      <td>100200</td>\n",
       "      <td>1148.9</td>\n",
       "      <td>1148.9</td>\n",
       "      <td>1148.9</td>\n",
       "      <td>1148.9</td>\n",
       "      <td>50</td>\n",
       "    </tr>\n",
       "    <tr>\n",
       "      <td>2</td>\n",
       "      <td>20160104</td>\n",
       "      <td>100300</td>\n",
       "      <td>1149.0</td>\n",
       "      <td>1149.0</td>\n",
       "      <td>1149.0</td>\n",
       "      <td>1149.0</td>\n",
       "      <td>33</td>\n",
       "    </tr>\n",
       "    <tr>\n",
       "      <td>3</td>\n",
       "      <td>20160104</td>\n",
       "      <td>100400</td>\n",
       "      <td>1149.0</td>\n",
       "      <td>1149.0</td>\n",
       "      <td>1149.0</td>\n",
       "      <td>1149.0</td>\n",
       "      <td>4</td>\n",
       "    </tr>\n",
       "    <tr>\n",
       "      <td>4</td>\n",
       "      <td>20160104</td>\n",
       "      <td>100500</td>\n",
       "      <td>1153.0</td>\n",
       "      <td>1153.0</td>\n",
       "      <td>1153.0</td>\n",
       "      <td>1153.0</td>\n",
       "      <td>0</td>\n",
       "    </tr>\n",
       "  </tbody>\n",
       "</table>\n",
       "</div>"
      ],
      "text/plain": [
       "     <DATE>  <TIME>  <OPEN>  <HIGH>   <LOW>  <CLOSE>  <VOL>\n",
       "0  20160104  100100  1148.9  1148.9  1148.9   1148.9      0\n",
       "1  20160104  100200  1148.9  1148.9  1148.9   1148.9     50\n",
       "2  20160104  100300  1149.0  1149.0  1149.0   1149.0     33\n",
       "3  20160104  100400  1149.0  1149.0  1149.0   1149.0      4\n",
       "4  20160104  100500  1153.0  1153.0  1153.0   1153.0      0"
      ]
     },
     "execution_count": 4,
     "metadata": {},
     "output_type": "execute_result"
    }
   ],
   "source": [
    "df2 = pd.read_csv(\"/Users/alina/Downloads/YNDX_160101_161231.csv\")\n",
    "df2.head()"
   ]
  },
  {
   "cell_type": "code",
   "execution_count": 5,
   "metadata": {},
   "outputs": [],
   "source": [
    "# Возможно совершить максимум одну транзакцию покупки-продажи\n",
    "df = pd.concat([df1, df2])"
   ]
  },
  {
   "cell_type": "code",
   "execution_count": 6,
   "metadata": {},
   "outputs": [
    {
     "data": {
      "text/html": [
       "<div>\n",
       "<style scoped>\n",
       "    .dataframe tbody tr th:only-of-type {\n",
       "        vertical-align: middle;\n",
       "    }\n",
       "\n",
       "    .dataframe tbody tr th {\n",
       "        vertical-align: top;\n",
       "    }\n",
       "\n",
       "    .dataframe thead th {\n",
       "        text-align: right;\n",
       "    }\n",
       "</style>\n",
       "<table border=\"1\" class=\"dataframe\">\n",
       "  <thead>\n",
       "    <tr style=\"text-align: right;\">\n",
       "      <th></th>\n",
       "      <th>&lt;DATE&gt;</th>\n",
       "      <th>&lt;TIME&gt;</th>\n",
       "      <th>&lt;OPEN&gt;</th>\n",
       "    </tr>\n",
       "  </thead>\n",
       "  <tbody>\n",
       "    <tr>\n",
       "      <td>0</td>\n",
       "      <td>20150105</td>\n",
       "      <td>100100</td>\n",
       "      <td>1064.0</td>\n",
       "    </tr>\n",
       "    <tr>\n",
       "      <td>1</td>\n",
       "      <td>20150105</td>\n",
       "      <td>100200</td>\n",
       "      <td>1064.0</td>\n",
       "    </tr>\n",
       "    <tr>\n",
       "      <td>2</td>\n",
       "      <td>20150105</td>\n",
       "      <td>100300</td>\n",
       "      <td>1064.0</td>\n",
       "    </tr>\n",
       "    <tr>\n",
       "      <td>3</td>\n",
       "      <td>20150105</td>\n",
       "      <td>100400</td>\n",
       "      <td>1064.0</td>\n",
       "    </tr>\n",
       "    <tr>\n",
       "      <td>4</td>\n",
       "      <td>20150105</td>\n",
       "      <td>100500</td>\n",
       "      <td>1064.0</td>\n",
       "    </tr>\n",
       "    <tr>\n",
       "      <td>...</td>\n",
       "      <td>...</td>\n",
       "      <td>...</td>\n",
       "      <td>...</td>\n",
       "    </tr>\n",
       "    <tr>\n",
       "      <td>131537</td>\n",
       "      <td>20161230</td>\n",
       "      <td>183800</td>\n",
       "      <td>1244.0</td>\n",
       "    </tr>\n",
       "    <tr>\n",
       "      <td>131538</td>\n",
       "      <td>20161230</td>\n",
       "      <td>183900</td>\n",
       "      <td>1248.5</td>\n",
       "    </tr>\n",
       "    <tr>\n",
       "      <td>131539</td>\n",
       "      <td>20161230</td>\n",
       "      <td>184000</td>\n",
       "      <td>1248.5</td>\n",
       "    </tr>\n",
       "    <tr>\n",
       "      <td>131540</td>\n",
       "      <td>20161230</td>\n",
       "      <td>184600</td>\n",
       "      <td>1247.5</td>\n",
       "    </tr>\n",
       "    <tr>\n",
       "      <td>131541</td>\n",
       "      <td>20161230</td>\n",
       "      <td>184900</td>\n",
       "      <td>1247.5</td>\n",
       "    </tr>\n",
       "  </tbody>\n",
       "</table>\n",
       "<p>262108 rows × 3 columns</p>\n",
       "</div>"
      ],
      "text/plain": [
       "          <DATE>  <TIME>  <OPEN>\n",
       "0       20150105  100100  1064.0\n",
       "1       20150105  100200  1064.0\n",
       "2       20150105  100300  1064.0\n",
       "3       20150105  100400  1064.0\n",
       "4       20150105  100500  1064.0\n",
       "...          ...     ...     ...\n",
       "131537  20161230  183800  1244.0\n",
       "131538  20161230  183900  1248.5\n",
       "131539  20161230  184000  1248.5\n",
       "131540  20161230  184600  1247.5\n",
       "131541  20161230  184900  1247.5\n",
       "\n",
       "[262108 rows x 3 columns]"
      ]
     },
     "execution_count": 6,
     "metadata": {},
     "output_type": "execute_result"
    }
   ],
   "source": [
    "df = df.drop(['<HIGH>', '<CLOSE>', '<LOW>', '<VOL>'], axis=1)\n",
    "df"
   ]
  },
  {
   "cell_type": "code",
   "execution_count": 7,
   "metadata": {},
   "outputs": [],
   "source": [
    "df = df.rename(columns={'<DATE>':'Date', '<TIME>' : 'Time', '<OPEN>' : 'Price'})"
   ]
  },
  {
   "cell_type": "code",
   "execution_count": 8,
   "metadata": {},
   "outputs": [
    {
     "data": {
      "text/html": [
       "<div>\n",
       "<style scoped>\n",
       "    .dataframe tbody tr th:only-of-type {\n",
       "        vertical-align: middle;\n",
       "    }\n",
       "\n",
       "    .dataframe tbody tr th {\n",
       "        vertical-align: top;\n",
       "    }\n",
       "\n",
       "    .dataframe thead th {\n",
       "        text-align: right;\n",
       "    }\n",
       "</style>\n",
       "<table border=\"1\" class=\"dataframe\">\n",
       "  <thead>\n",
       "    <tr style=\"text-align: right;\">\n",
       "      <th></th>\n",
       "      <th>Date</th>\n",
       "      <th>Time</th>\n",
       "      <th>Price</th>\n",
       "    </tr>\n",
       "  </thead>\n",
       "  <tbody>\n",
       "    <tr>\n",
       "      <td>96092</td>\n",
       "      <td>20150929</td>\n",
       "      <td>100500</td>\n",
       "      <td>687.0</td>\n",
       "    </tr>\n",
       "    <tr>\n",
       "      <td>96093</td>\n",
       "      <td>20150929</td>\n",
       "      <td>100600</td>\n",
       "      <td>687.0</td>\n",
       "    </tr>\n",
       "    <tr>\n",
       "      <td>96149</td>\n",
       "      <td>20150929</td>\n",
       "      <td>110200</td>\n",
       "      <td>687.0</td>\n",
       "    </tr>\n",
       "    <tr>\n",
       "      <td>96151</td>\n",
       "      <td>20150929</td>\n",
       "      <td>110400</td>\n",
       "      <td>687.0</td>\n",
       "    </tr>\n",
       "    <tr>\n",
       "      <td>96173</td>\n",
       "      <td>20150929</td>\n",
       "      <td>112600</td>\n",
       "      <td>687.0</td>\n",
       "    </tr>\n",
       "    <tr>\n",
       "      <td>96174</td>\n",
       "      <td>20150929</td>\n",
       "      <td>112700</td>\n",
       "      <td>687.0</td>\n",
       "    </tr>\n",
       "    <tr>\n",
       "      <td>96175</td>\n",
       "      <td>20150929</td>\n",
       "      <td>112800</td>\n",
       "      <td>687.0</td>\n",
       "    </tr>\n",
       "    <tr>\n",
       "      <td>96176</td>\n",
       "      <td>20150929</td>\n",
       "      <td>112900</td>\n",
       "      <td>687.0</td>\n",
       "    </tr>\n",
       "    <tr>\n",
       "      <td>96177</td>\n",
       "      <td>20150929</td>\n",
       "      <td>113000</td>\n",
       "      <td>687.0</td>\n",
       "    </tr>\n",
       "    <tr>\n",
       "      <td>96182</td>\n",
       "      <td>20150929</td>\n",
       "      <td>113500</td>\n",
       "      <td>687.0</td>\n",
       "    </tr>\n",
       "  </tbody>\n",
       "</table>\n",
       "</div>"
      ],
      "text/plain": [
       "           Date    Time  Price\n",
       "96092  20150929  100500  687.0\n",
       "96093  20150929  100600  687.0\n",
       "96149  20150929  110200  687.0\n",
       "96151  20150929  110400  687.0\n",
       "96173  20150929  112600  687.0\n",
       "96174  20150929  112700  687.0\n",
       "96175  20150929  112800  687.0\n",
       "96176  20150929  112900  687.0\n",
       "96177  20150929  113000  687.0\n",
       "96182  20150929  113500  687.0"
      ]
     },
     "execution_count": 8,
     "metadata": {},
     "output_type": "execute_result"
    }
   ],
   "source": [
    "df_min = df[df['Price'] == min(df['Price'])]\n",
    "df_min"
   ]
  },
  {
   "cell_type": "code",
   "execution_count": 9,
   "metadata": {},
   "outputs": [
    {
     "data": {
      "text/html": [
       "<div>\n",
       "<style scoped>\n",
       "    .dataframe tbody tr th:only-of-type {\n",
       "        vertical-align: middle;\n",
       "    }\n",
       "\n",
       "    .dataframe tbody tr th {\n",
       "        vertical-align: top;\n",
       "    }\n",
       "\n",
       "    .dataframe thead th {\n",
       "        text-align: right;\n",
       "    }\n",
       "</style>\n",
       "<table border=\"1\" class=\"dataframe\">\n",
       "  <thead>\n",
       "    <tr style=\"text-align: right;\">\n",
       "      <th></th>\n",
       "      <th>Date</th>\n",
       "      <th>Time</th>\n",
       "      <th>Price</th>\n",
       "    </tr>\n",
       "  </thead>\n",
       "  <tbody>\n",
       "    <tr>\n",
       "      <td>73993</td>\n",
       "      <td>20160728</td>\n",
       "      <td>163400</td>\n",
       "      <td>1536.5</td>\n",
       "    </tr>\n",
       "  </tbody>\n",
       "</table>\n",
       "</div>"
      ],
      "text/plain": [
       "           Date    Time   Price\n",
       "73993  20160728  163400  1536.5"
      ]
     },
     "execution_count": 9,
     "metadata": {},
     "output_type": "execute_result"
    }
   ],
   "source": [
    "df_max = df[df['Price'] == max(df['Price'])]\n",
    "df_max"
   ]
  },
  {
   "cell_type": "code",
   "execution_count": 1,
   "metadata": {},
   "outputs": [
    {
     "name": "stdout",
     "output_type": "stream",
     "text": [
      "849.5\n"
     ]
    }
   ],
   "source": [
    "print(1536.5 - 687)"
   ]
  },
  {
   "cell_type": "code",
   "execution_count": 10,
   "metadata": {},
   "outputs": [
    {
     "name": "stdout",
     "output_type": "stream",
     "text": [
      "96092 204559 849.5\n"
     ]
    }
   ],
   "source": [
    "max_i, min_i = 0, 0 \n",
    "lst = list(df.Price)\n",
    "for i in range(1, len(lst)): \n",
    "    if lst[i] > lst[max_i]: \n",
    "        max_i = i \n",
    "    if lst[i] < lst[min_i]: \n",
    "        min_i = i \n",
    "    profit = lst[max_i] - lst[min_i] \n",
    "print(min_i, max_i, profit) "
   ]
  },
  {
   "cell_type": "code",
   "execution_count": 11,
   "metadata": {},
   "outputs": [
    {
     "name": "stdout",
     "output_type": "stream",
     "text": [
      "262108\n"
     ]
    }
   ],
   "source": [
    "print(len(lst))"
   ]
  },
  {
   "cell_type": "markdown",
   "metadata": {},
   "source": [
    "Возможно совершить до двух транзакций покупки-продажи, но нельзя накапливать акции в портфеле, то есть каждый раз перед покупкой вы должны сначала продать все имеющиеся акции."
   ]
  },
  {
   "cell_type": "code",
   "execution_count": 11,
   "metadata": {},
   "outputs": [],
   "source": [
    "min1, max1, min2, max2 = 0, 0, 0, 0\n",
    "max_sum = 0\n",
    "        "
   ]
  },
  {
   "cell_type": "code",
   "execution_count": 32,
   "metadata": {},
   "outputs": [
    {
     "data": {
      "text/plain": [
       "[123, 124]"
      ]
     },
     "execution_count": 32,
     "metadata": {},
     "output_type": "execute_result"
    }
   ],
   "source": [
    "lstp = [123, 124, 148, 567, 78, 67]\n",
    "lstp[0:2]\n",
    "#lstp[2:len(lstp)]\n"
   ]
  },
  {
   "cell_type": "code",
   "execution_count": 34,
   "metadata": {},
   "outputs": [],
   "source": [
    "lst1 = lst[0:2]"
   ]
  },
  {
   "cell_type": "code",
   "execution_count": 24,
   "metadata": {},
   "outputs": [
    {
     "name": "stdout",
     "output_type": "stream",
     "text": [
      "1.1395282274129424\n"
     ]
    }
   ],
   "source": [
    "from random import random\n",
    "x = 0\n",
    "while x < 1:\n",
    "    x += random()\n",
    "print(x)"
   ]
  },
  {
   "cell_type": "code",
   "execution_count": 27,
   "metadata": {},
   "outputs": [
    {
     "name": "stdout",
     "output_type": "stream",
     "text": [
      "trial: 1, x: 0\n",
      "trial: 2, x: 0.05387495417869692\n",
      "trial: 3, x: 0.5681148414701424\n"
     ]
    }
   ],
   "source": [
    "from random import random\n",
    "x = 0\n",
    "counter = 0\n",
    "while x < 1: \n",
    "    counter += 1\n",
    "    print('trial: {}, x: {}'.format(counter, x))    \n",
    "    x += random()"
   ]
  },
  {
   "cell_type": "markdown",
   "metadata": {},
   "source": [
    "Возможно совершить до K транзакций, но нельзя накапливать акции в портфеле, то есть каждый раз перед покупкой вы должны сначала продать все имеющиеся акции. Капитал, передаваемый в ваше распоряжение, вводится с клавиатуры."
   ]
  }
 ],
 "metadata": {
  "kernelspec": {
   "display_name": "Python 3",
   "language": "python",
   "name": "python3"
  },
  "language_info": {
   "codemirror_mode": {
    "name": "ipython",
    "version": 3
   },
   "file_extension": ".py",
   "mimetype": "text/x-python",
   "name": "python",
   "nbconvert_exporter": "python",
   "pygments_lexer": "ipython3",
   "version": "3.7.4"
  }
 },
 "nbformat": 4,
 "nbformat_minor": 2
}
